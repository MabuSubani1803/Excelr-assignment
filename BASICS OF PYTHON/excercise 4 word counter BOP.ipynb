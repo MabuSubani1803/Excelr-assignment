{
 "cells": [
  {
   "cell_type": "code",
   "execution_count": 1,
   "metadata": {},
   "outputs": [
    {
     "name": "stdout",
     "output_type": "stream",
     "text": [
      "'this': 2\n",
      "'is': 1\n",
      "'a': 1\n",
      "'sample': 1\n",
      "'text': 2\n",
      "'will': 1\n",
      "'be': 1\n",
      "'used': 1\n",
      "'to': 1\n",
      "'demonstrate': 1\n",
      "'the': 1\n",
      "'word': 1\n",
      "'counter': 1\n"
     ]
    }
   ],
   "source": [
    "import string\n",
    "\n",
    "def count_words(text):\n",
    "    \"\"\"\n",
    "    Counts the number of occurrences of each word in a given text.\n",
    "\n",
    "    Parameters:\n",
    "    text (str): The input text for which words are to be counted.\n",
    "\n",
    "    Returns:\n",
    "    dict: A dictionary with words as keys and their counts as values.\n",
    "    \"\"\"\n",
    "    # Remove punctuation from the text\n",
    "    translator = str.maketrans('', '', string.punctuation)\n",
    "    cleaned_text = text.translate(translator)\n",
    "\n",
    "    # Convert text to lower case to normalize the data\n",
    "    cleaned_text = cleaned_text.lower()\n",
    "\n",
    "    # Split the text into words\n",
    "    words = cleaned_text.split()\n",
    "\n",
    "    # Dictionary to hold word counts\n",
    "    word_count = {}\n",
    "\n",
    "    # Count each word in the list\n",
    "    for word in words:\n",
    "        if word in word_count:\n",
    "            word_count[word] += 1\n",
    "        else:\n",
    "            word_count[word] = 1\n",
    "\n",
    "    return word_count\n",
    "\n",
    "# Example usage\n",
    "input_text = \"This is a sample text. This text will be used to demonstrate the word counter.\"\n",
    "word_counts = count_words(input_text)\n",
    "for word, count in word_counts.items():\n",
    "    print(f\"'{word}': {count}\")"
   ]
  }
 ],
 "metadata": {
  "kernelspec": {
   "display_name": "Python 3",
   "language": "python",
   "name": "python3"
  },
  "language_info": {
   "codemirror_mode": {
    "name": "ipython",
    "version": 3
   },
   "file_extension": ".py",
   "mimetype": "text/x-python",
   "name": "python",
   "nbconvert_exporter": "python",
   "pygments_lexer": "ipython3",
   "version": "3.12.3"
  }
 },
 "nbformat": 4,
 "nbformat_minor": 2
}
