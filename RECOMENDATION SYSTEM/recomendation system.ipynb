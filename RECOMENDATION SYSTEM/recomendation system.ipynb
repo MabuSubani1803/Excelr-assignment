{
 "cells": [
  {
   "cell_type": "code",
   "execution_count": 22,
   "metadata": {},
   "outputs": [
    {
     "name": "stdout",
     "output_type": "stream",
     "text": [
      "Top 10 recommended anime for anime with ID 1\n",
      "Cowboy Bebop (Similarity Score: 0.9999999999999999)\n",
      "Yahari Ore no Seishun Love Comedy wa Machigatteiru. (Similarity Score: 0.9999999995889136)\n",
      "Mahouka Koukou no Rettousei (Similarity Score: 0.9999999961134917)\n",
      "Lucky☆Star (Similarity Score: 0.9999999378893729)\n",
      "Claymore (Similarity Score: 0.9999997530236121)\n",
      "Gakusen Toshi Asterisk (Similarity Score: 0.999999030645567)\n",
      "Baka to Test to Shoukanjuu (Similarity Score: 0.9999982882729079)\n",
      "Free! (Similarity Score: 0.9999977828431824)\n",
      "Higurashi no Naku Koro ni (Similarity Score: 0.9999973428058347)\n",
      "Gokukoku no Brynhildr (Similarity Score: 0.9999967407930418)\n"
     ]
    }
   ],
   "source": [
    "import pandas as pd\n",
    "import numpy as np\n",
    "from sklearn.metrics.pairwise import cosine_similarity\n",
    "from sklearn.preprocessing import StandardScaler\n",
    "\n",
    "# Load dataset\n",
    "anime_data = pd.read_csv(r'c:\\Users\\HP PROBOOK\\Downloads\\Recommendation System\\Recommendation System\\anime.csv')  # Update the path accordingly\n",
    "\n",
    "# Handle missing values\n",
    "anime_data.fillna(0, inplace=True)\n",
    "\n",
    "# Feature extraction\n",
    "features = ['rating', 'members']\n",
    "scaler = StandardScaler()\n",
    "anime_data[features] = scaler.fit_transform(anime_data[features])\n",
    "\n",
    "# Recommendation system\n",
    "def recommend_anime(target_anime_id, dataset, features, threshold=0.5, top_n=10):\n",
    "    target_anime = dataset[dataset['anime_id'] == target_anime_id]\n",
    "    target_features = target_anime[features].values.reshape(1, -1)\n",
    "    \n",
    "    similarities = cosine_similarity(dataset[features], target_features)\n",
    "    similar_indices = np.where(similarities > threshold)[0]\n",
    "    similar_anime = sorted(zip(similar_indices, similarities[similar_indices]), key=lambda x: -x[1])\n",
    "    \n",
    "    return similar_anime[:top_n]\n",
    "\n",
    "# Example usage\n",
    "target_anime_id = 1  # Change to the ID of the anime you want recommendations for\n",
    "recommendations = recommend_anime(target_anime_id, anime_data, features)\n",
    "print(\"Top 10 recommended anime for anime with ID\", target_anime_id)\n",
    "for idx, sim in recommendations:\n",
    "    anime_title = anime_data.iloc[idx]['name']\n",
    "    similarity_score = sim[0]\n",
    "    print(f\"{anime_title} (Similarity Score: {similarity_score})\")\n"
   ]
  }
 ],
 "metadata": {
  "kernelspec": {
   "display_name": "Python 3",
   "language": "python",
   "name": "python3"
  },
  "language_info": {
   "codemirror_mode": {
    "name": "ipython",
    "version": 3
   },
   "file_extension": ".py",
   "mimetype": "text/x-python",
   "name": "python",
   "nbconvert_exporter": "python",
   "pygments_lexer": "ipython3",
   "version": "3.12.3"
  }
 },
 "nbformat": 4,
 "nbformat_minor": 2
}
